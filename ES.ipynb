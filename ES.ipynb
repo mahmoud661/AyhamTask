{
 "cells": [
  {
   "cell_type": "code",
   "execution_count": 25,
   "metadata": {},
   "outputs": [],
   "source": [
    "import pandas as pd \n",
    "import matplotlib.pyplot as plt\n",
    "import seaborn as sns\n",
    "import numpy as np"
   ]
  },
  {
   "cell_type": "code",
   "execution_count": 3,
   "metadata": {},
   "outputs": [],
   "source": [
    "df = pd.read_excel(\"Sample Data.xlsx\")"
   ]
  },
  {
   "cell_type": "code",
   "execution_count": 4,
   "metadata": {},
   "outputs": [
    {
     "data": {
      "text/html": [
       "<div>\n",
       "<style scoped>\n",
       "    .dataframe tbody tr th:only-of-type {\n",
       "        vertical-align: middle;\n",
       "    }\n",
       "\n",
       "    .dataframe tbody tr th {\n",
       "        vertical-align: top;\n",
       "    }\n",
       "\n",
       "    .dataframe thead th {\n",
       "        text-align: right;\n",
       "    }\n",
       "</style>\n",
       "<table border=\"1\" class=\"dataframe\">\n",
       "  <thead>\n",
       "    <tr style=\"text-align: right;\">\n",
       "      <th></th>\n",
       "      <th>EEID</th>\n",
       "      <th>Full Name</th>\n",
       "      <th>Job Title</th>\n",
       "      <th>Department</th>\n",
       "      <th>Business Unit</th>\n",
       "      <th>Gender</th>\n",
       "      <th>Ethnicity</th>\n",
       "      <th>Age</th>\n",
       "      <th>Hire Date</th>\n",
       "      <th>Annual Salary</th>\n",
       "      <th>Bonus %</th>\n",
       "      <th>Country</th>\n",
       "      <th>City</th>\n",
       "      <th>Exit Date</th>\n",
       "    </tr>\n",
       "  </thead>\n",
       "  <tbody>\n",
       "    <tr>\n",
       "      <th>0</th>\n",
       "      <td>E02387</td>\n",
       "      <td>Emily Davis</td>\n",
       "      <td>Sr. Manger</td>\n",
       "      <td>IT</td>\n",
       "      <td>Research &amp; Development</td>\n",
       "      <td>Female</td>\n",
       "      <td>Black</td>\n",
       "      <td>55.0</td>\n",
       "      <td>2016-04-08</td>\n",
       "      <td>141604.0</td>\n",
       "      <td>0.15</td>\n",
       "      <td>United States</td>\n",
       "      <td>Seattle</td>\n",
       "      <td>2021-10-16</td>\n",
       "    </tr>\n",
       "    <tr>\n",
       "      <th>1</th>\n",
       "      <td>E04105</td>\n",
       "      <td>Theodore Dinh</td>\n",
       "      <td>Technical Architect</td>\n",
       "      <td>IT</td>\n",
       "      <td>Manufacturing</td>\n",
       "      <td>Male</td>\n",
       "      <td>Asian</td>\n",
       "      <td>59.0</td>\n",
       "      <td>1997-11-29</td>\n",
       "      <td>99975.0</td>\n",
       "      <td>0.00</td>\n",
       "      <td>China</td>\n",
       "      <td>Chongqing</td>\n",
       "      <td>NaT</td>\n",
       "    </tr>\n",
       "    <tr>\n",
       "      <th>2</th>\n",
       "      <td>E02572</td>\n",
       "      <td>Luna Sanders</td>\n",
       "      <td>Director</td>\n",
       "      <td>Finance</td>\n",
       "      <td>Speciality Products</td>\n",
       "      <td>Female</td>\n",
       "      <td>Caucasian</td>\n",
       "      <td>50.0</td>\n",
       "      <td>2006-10-26</td>\n",
       "      <td>163099.0</td>\n",
       "      <td>0.20</td>\n",
       "      <td>United States</td>\n",
       "      <td>Chicago</td>\n",
       "      <td>NaT</td>\n",
       "    </tr>\n",
       "    <tr>\n",
       "      <th>3</th>\n",
       "      <td>E02832</td>\n",
       "      <td>Penelope Jordan</td>\n",
       "      <td>Computer Systems Manager</td>\n",
       "      <td>IT</td>\n",
       "      <td>Manufacturing</td>\n",
       "      <td>Female</td>\n",
       "      <td>Caucasian</td>\n",
       "      <td>26.0</td>\n",
       "      <td>2019-09-27</td>\n",
       "      <td>84913.0</td>\n",
       "      <td>0.07</td>\n",
       "      <td>United States</td>\n",
       "      <td>Chicago</td>\n",
       "      <td>NaT</td>\n",
       "    </tr>\n",
       "    <tr>\n",
       "      <th>4</th>\n",
       "      <td>E01639</td>\n",
       "      <td>Austin Vo</td>\n",
       "      <td>Sr. Analyst</td>\n",
       "      <td>Finance</td>\n",
       "      <td>Manufacturing</td>\n",
       "      <td>Male</td>\n",
       "      <td>Asian</td>\n",
       "      <td>55.0</td>\n",
       "      <td>1995-11-20</td>\n",
       "      <td>95409.0</td>\n",
       "      <td>0.00</td>\n",
       "      <td>United States</td>\n",
       "      <td>Phoenix</td>\n",
       "      <td>NaT</td>\n",
       "    </tr>\n",
       "  </tbody>\n",
       "</table>\n",
       "</div>"
      ],
      "text/plain": [
       "     EEID        Full Name                 Job Title Department  \\\n",
       "0  E02387      Emily Davis                Sr. Manger         IT   \n",
       "1  E04105    Theodore Dinh       Technical Architect         IT   \n",
       "2  E02572     Luna Sanders                  Director    Finance   \n",
       "3  E02832  Penelope Jordan  Computer Systems Manager         IT   \n",
       "4  E01639        Austin Vo               Sr. Analyst    Finance   \n",
       "\n",
       "            Business Unit  Gender  Ethnicity   Age  Hire Date  Annual Salary  \\\n",
       "0  Research & Development  Female      Black  55.0 2016-04-08       141604.0   \n",
       "1           Manufacturing    Male      Asian  59.0 1997-11-29        99975.0   \n",
       "2     Speciality Products  Female  Caucasian  50.0 2006-10-26       163099.0   \n",
       "3           Manufacturing  Female  Caucasian  26.0 2019-09-27        84913.0   \n",
       "4           Manufacturing    Male      Asian  55.0 1995-11-20        95409.0   \n",
       "\n",
       "   Bonus %        Country       City  Exit Date  \n",
       "0     0.15  United States    Seattle 2021-10-16  \n",
       "1     0.00          China  Chongqing        NaT  \n",
       "2     0.20  United States    Chicago        NaT  \n",
       "3     0.07  United States    Chicago        NaT  \n",
       "4     0.00  United States    Phoenix        NaT  "
      ]
     },
     "execution_count": 4,
     "metadata": {},
     "output_type": "execute_result"
    }
   ],
   "source": [
    "df.head()"
   ]
  },
  {
   "cell_type": "code",
   "execution_count": 5,
   "metadata": {},
   "outputs": [
    {
     "data": {
      "text/html": [
       "<div>\n",
       "<style scoped>\n",
       "    .dataframe tbody tr th:only-of-type {\n",
       "        vertical-align: middle;\n",
       "    }\n",
       "\n",
       "    .dataframe tbody tr th {\n",
       "        vertical-align: top;\n",
       "    }\n",
       "\n",
       "    .dataframe thead th {\n",
       "        text-align: right;\n",
       "    }\n",
       "</style>\n",
       "<table border=\"1\" class=\"dataframe\">\n",
       "  <thead>\n",
       "    <tr style=\"text-align: right;\">\n",
       "      <th></th>\n",
       "      <th>Age</th>\n",
       "      <th>Hire Date</th>\n",
       "      <th>Annual Salary</th>\n",
       "      <th>Bonus %</th>\n",
       "      <th>Exit Date</th>\n",
       "    </tr>\n",
       "  </thead>\n",
       "  <tbody>\n",
       "    <tr>\n",
       "      <th>count</th>\n",
       "      <td>994.000000</td>\n",
       "      <td>993</td>\n",
       "      <td>989.00000</td>\n",
       "      <td>992.000000</td>\n",
       "      <td>85</td>\n",
       "    </tr>\n",
       "    <tr>\n",
       "      <th>mean</th>\n",
       "      <td>44.369215</td>\n",
       "      <td>2012-04-17 22:56:11.601208576</td>\n",
       "      <td>113372.62184</td>\n",
       "      <td>0.088972</td>\n",
       "      <td>2016-11-02 18:04:14.117647104</td>\n",
       "    </tr>\n",
       "    <tr>\n",
       "      <th>min</th>\n",
       "      <td>25.000000</td>\n",
       "      <td>1992-01-09 00:00:00</td>\n",
       "      <td>40063.00000</td>\n",
       "      <td>0.000000</td>\n",
       "      <td>1994-12-18 00:00:00</td>\n",
       "    </tr>\n",
       "    <tr>\n",
       "      <th>25%</th>\n",
       "      <td>35.000000</td>\n",
       "      <td>2007-02-24 00:00:00</td>\n",
       "      <td>71234.00000</td>\n",
       "      <td>0.000000</td>\n",
       "      <td>2014-12-25 00:00:00</td>\n",
       "    </tr>\n",
       "    <tr>\n",
       "      <th>50%</th>\n",
       "      <td>45.000000</td>\n",
       "      <td>2014-02-20 00:00:00</td>\n",
       "      <td>96567.00000</td>\n",
       "      <td>0.000000</td>\n",
       "      <td>2019-05-23 00:00:00</td>\n",
       "    </tr>\n",
       "    <tr>\n",
       "      <th>75%</th>\n",
       "      <td>54.000000</td>\n",
       "      <td>2018-06-25 00:00:00</td>\n",
       "      <td>151027.00000</td>\n",
       "      <td>0.150000</td>\n",
       "      <td>2021-04-09 00:00:00</td>\n",
       "    </tr>\n",
       "    <tr>\n",
       "      <th>max</th>\n",
       "      <td>65.000000</td>\n",
       "      <td>2021-12-26 00:00:00</td>\n",
       "      <td>258498.00000</td>\n",
       "      <td>0.400000</td>\n",
       "      <td>2022-08-17 00:00:00</td>\n",
       "    </tr>\n",
       "    <tr>\n",
       "      <th>std</th>\n",
       "      <td>11.248162</td>\n",
       "      <td>NaN</td>\n",
       "      <td>53729.04678</td>\n",
       "      <td>0.118135</td>\n",
       "      <td>NaN</td>\n",
       "    </tr>\n",
       "  </tbody>\n",
       "</table>\n",
       "</div>"
      ],
      "text/plain": [
       "              Age                      Hire Date  Annual Salary     Bonus %  \\\n",
       "count  994.000000                            993      989.00000  992.000000   \n",
       "mean    44.369215  2012-04-17 22:56:11.601208576   113372.62184    0.088972   \n",
       "min     25.000000            1992-01-09 00:00:00    40063.00000    0.000000   \n",
       "25%     35.000000            2007-02-24 00:00:00    71234.00000    0.000000   \n",
       "50%     45.000000            2014-02-20 00:00:00    96567.00000    0.000000   \n",
       "75%     54.000000            2018-06-25 00:00:00   151027.00000    0.150000   \n",
       "max     65.000000            2021-12-26 00:00:00   258498.00000    0.400000   \n",
       "std     11.248162                            NaN    53729.04678    0.118135   \n",
       "\n",
       "                           Exit Date  \n",
       "count                             85  \n",
       "mean   2016-11-02 18:04:14.117647104  \n",
       "min              1994-12-18 00:00:00  \n",
       "25%              2014-12-25 00:00:00  \n",
       "50%              2019-05-23 00:00:00  \n",
       "75%              2021-04-09 00:00:00  \n",
       "max              2022-08-17 00:00:00  \n",
       "std                              NaN  "
      ]
     },
     "execution_count": 5,
     "metadata": {},
     "output_type": "execute_result"
    }
   ],
   "source": [
    "df.describe()"
   ]
  },
  {
   "cell_type": "markdown",
   "metadata": {},
   "source": [
    "# Clean the data."
   ]
  },
  {
   "cell_type": "code",
   "execution_count": 6,
   "metadata": {},
   "outputs": [
    {
     "data": {
      "text/plain": [
       "0"
      ]
     },
     "execution_count": 6,
     "metadata": {},
     "output_type": "execute_result"
    }
   ],
   "source": [
    "df.duplicated().sum()  "
   ]
  },
  {
   "cell_type": "code",
   "execution_count": 7,
   "metadata": {},
   "outputs": [
    {
     "data": {
      "text/plain": [
       "EEID               0\n",
       "Full Name          2\n",
       "Job Title          1\n",
       "Department         2\n",
       "Business Unit      0\n",
       "Gender             1\n",
       "Ethnicity          7\n",
       "Age                6\n",
       "Hire Date          7\n",
       "Annual Salary     11\n",
       "Bonus %            8\n",
       "Country            2\n",
       "City               2\n",
       "Exit Date        915\n",
       "dtype: int64"
      ]
     },
     "execution_count": 7,
     "metadata": {},
     "output_type": "execute_result"
    }
   ],
   "source": [
    "df.isna().sum()"
   ]
  },
  {
   "cell_type": "code",
   "execution_count": 8,
   "metadata": {},
   "outputs": [],
   "source": [
    "categorical_columns = [\"Full Name\", \"Job Title\",\n",
    "                       \"Department\", \"Gender\", \"Country\", \"City\", \"Ethnicity\"]\n",
    "df[categorical_columns] = df[categorical_columns].fillna(\"Not Provided\")"
   ]
  },
  {
   "cell_type": "code",
   "execution_count": 9,
   "metadata": {},
   "outputs": [],
   "source": [
    "df['Annual Salary'] = df['Annual Salary'].fillna(df['Annual Salary'].mean())\n",
    "df['Age'] = df['Age'].fillna(int(df['Age'].mean()))\n",
    "df['Bonus %'] = df['Bonus %'].fillna(0.0)"
   ]
  },
  {
   "cell_type": "code",
   "execution_count": 10,
   "metadata": {},
   "outputs": [],
   "source": [
    "df['Hire Date'] = df['Hire Date'].fillna(df['Hire Date'].mode()[0])\n",
    "df['Exit Date'] = df['Exit Date'].fillna('Not Provided')"
   ]
  },
  {
   "cell_type": "code",
   "execution_count": 11,
   "metadata": {},
   "outputs": [],
   "source": [
    "df['EEID'] = df['EEID'].astype(str)\n",
    "df['Annual Salary'] = pd.to_numeric(df['Annual Salary'], errors='coerce')\n",
    "df['Bonus %'] = pd.to_numeric(df['Bonus %'], errors='coerce')"
   ]
  },
  {
   "cell_type": "code",
   "execution_count": 12,
   "metadata": {},
   "outputs": [
    {
     "name": "stdout",
     "output_type": "stream",
     "text": [
      "missing values after cleaning:\n",
      "EEID             0\n",
      "Full Name        0\n",
      "Job Title        0\n",
      "Department       0\n",
      "Business Unit    0\n",
      "Gender           0\n",
      "Ethnicity        0\n",
      "Age              0\n",
      "Hire Date        0\n",
      "Annual Salary    0\n",
      "Bonus %          0\n",
      "Country          0\n",
      "City             0\n",
      "Exit Date        0\n",
      "dtype: int64\n"
     ]
    }
   ],
   "source": [
    "print(\"missing values after cleaning:\")\n",
    "print(df.isna().sum())"
   ]
  },
  {
   "cell_type": "markdown",
   "metadata": {},
   "source": [
    "Ensure that all data is in the correct format ."
   ]
  },
  {
   "cell_type": "code",
   "execution_count": 13,
   "metadata": {},
   "outputs": [],
   "source": [
    "df['EEID'] = df['EEID'].astype(str)\n",
    "df['Annual Salary'] = pd.to_numeric(df['Annual Salary'], errors='coerce')\n",
    "df['Bonus %'] = pd.to_numeric(df['Bonus %'], errors='coerce')\n",
    "\n",
    "\n",
    "df['Hire Date'] = pd.to_datetime(df['Hire Date'], errors='coerce')\n",
    "df['Exit Date'] = pd.to_datetime(df['Exit Date'], errors='coerce')"
   ]
  },
  {
   "cell_type": "code",
   "execution_count": 14,
   "metadata": {},
   "outputs": [
    {
     "data": {
      "text/html": [
       "<div>\n",
       "<style scoped>\n",
       "    .dataframe tbody tr th:only-of-type {\n",
       "        vertical-align: middle;\n",
       "    }\n",
       "\n",
       "    .dataframe tbody tr th {\n",
       "        vertical-align: top;\n",
       "    }\n",
       "\n",
       "    .dataframe thead th {\n",
       "        text-align: right;\n",
       "    }\n",
       "</style>\n",
       "<table border=\"1\" class=\"dataframe\">\n",
       "  <thead>\n",
       "    <tr style=\"text-align: right;\">\n",
       "      <th></th>\n",
       "      <th>EEID</th>\n",
       "      <th>Full Name</th>\n",
       "      <th>Job Title</th>\n",
       "      <th>Department</th>\n",
       "      <th>Business Unit</th>\n",
       "      <th>Gender</th>\n",
       "      <th>Ethnicity</th>\n",
       "      <th>Age</th>\n",
       "      <th>Hire Date</th>\n",
       "      <th>Annual Salary</th>\n",
       "      <th>Bonus %</th>\n",
       "      <th>Country</th>\n",
       "      <th>City</th>\n",
       "      <th>Exit Date</th>\n",
       "    </tr>\n",
       "  </thead>\n",
       "  <tbody>\n",
       "    <tr>\n",
       "      <th>995</th>\n",
       "      <td>E03094</td>\n",
       "      <td>Wesley Young</td>\n",
       "      <td>Sr. Analyst</td>\n",
       "      <td>Marketing</td>\n",
       "      <td>Speciality Products</td>\n",
       "      <td>Male</td>\n",
       "      <td>Caucasian</td>\n",
       "      <td>33.0</td>\n",
       "      <td>2016-09-18</td>\n",
       "      <td>98427.0</td>\n",
       "      <td>0.00</td>\n",
       "      <td>United States</td>\n",
       "      <td>Columbus</td>\n",
       "      <td>NaT</td>\n",
       "    </tr>\n",
       "    <tr>\n",
       "      <th>996</th>\n",
       "      <td>E01909</td>\n",
       "      <td>Lillian Khan</td>\n",
       "      <td>Analyst</td>\n",
       "      <td>Finance</td>\n",
       "      <td>Speciality Products</td>\n",
       "      <td>Female</td>\n",
       "      <td>Asian</td>\n",
       "      <td>44.0</td>\n",
       "      <td>2010-05-31</td>\n",
       "      <td>47387.0</td>\n",
       "      <td>0.00</td>\n",
       "      <td>China</td>\n",
       "      <td>Chengdu</td>\n",
       "      <td>2018-01-08</td>\n",
       "    </tr>\n",
       "    <tr>\n",
       "      <th>997</th>\n",
       "      <td>E04398</td>\n",
       "      <td>Oliver Yang</td>\n",
       "      <td>Director</td>\n",
       "      <td>Marketing</td>\n",
       "      <td>Speciality Products</td>\n",
       "      <td>Male</td>\n",
       "      <td>Asian</td>\n",
       "      <td>31.0</td>\n",
       "      <td>2019-06-10</td>\n",
       "      <td>176710.0</td>\n",
       "      <td>0.15</td>\n",
       "      <td>United States</td>\n",
       "      <td>Miami</td>\n",
       "      <td>NaT</td>\n",
       "    </tr>\n",
       "    <tr>\n",
       "      <th>998</th>\n",
       "      <td>E02521</td>\n",
       "      <td>Lily Nguyen</td>\n",
       "      <td>Sr. Analyst</td>\n",
       "      <td>Finance</td>\n",
       "      <td>Speciality Products</td>\n",
       "      <td>Female</td>\n",
       "      <td>Asian</td>\n",
       "      <td>33.0</td>\n",
       "      <td>2012-01-28</td>\n",
       "      <td>95960.0</td>\n",
       "      <td>0.00</td>\n",
       "      <td>China</td>\n",
       "      <td>Chengdu</td>\n",
       "      <td>NaT</td>\n",
       "    </tr>\n",
       "    <tr>\n",
       "      <th>999</th>\n",
       "      <td>E03545</td>\n",
       "      <td>Sofia Cheng</td>\n",
       "      <td>Vice President</td>\n",
       "      <td>Accounting</td>\n",
       "      <td>Corporate</td>\n",
       "      <td>Female</td>\n",
       "      <td>Asian</td>\n",
       "      <td>63.0</td>\n",
       "      <td>2020-07-26</td>\n",
       "      <td>216195.0</td>\n",
       "      <td>0.31</td>\n",
       "      <td>United States</td>\n",
       "      <td>Miami</td>\n",
       "      <td>NaT</td>\n",
       "    </tr>\n",
       "  </tbody>\n",
       "</table>\n",
       "</div>"
      ],
      "text/plain": [
       "       EEID     Full Name       Job Title  Department        Business Unit  \\\n",
       "995  E03094  Wesley Young     Sr. Analyst   Marketing  Speciality Products   \n",
       "996  E01909  Lillian Khan         Analyst     Finance  Speciality Products   \n",
       "997  E04398   Oliver Yang        Director   Marketing  Speciality Products   \n",
       "998  E02521   Lily Nguyen     Sr. Analyst     Finance  Speciality Products   \n",
       "999  E03545   Sofia Cheng  Vice President  Accounting            Corporate   \n",
       "\n",
       "     Gender  Ethnicity   Age  Hire Date  Annual Salary  Bonus %  \\\n",
       "995    Male  Caucasian  33.0 2016-09-18        98427.0     0.00   \n",
       "996  Female      Asian  44.0 2010-05-31        47387.0     0.00   \n",
       "997    Male      Asian  31.0 2019-06-10       176710.0     0.15   \n",
       "998  Female      Asian  33.0 2012-01-28        95960.0     0.00   \n",
       "999  Female      Asian  63.0 2020-07-26       216195.0     0.31   \n",
       "\n",
       "           Country      City  Exit Date  \n",
       "995  United States  Columbus        NaT  \n",
       "996          China   Chengdu 2018-01-08  \n",
       "997  United States     Miami        NaT  \n",
       "998          China   Chengdu        NaT  \n",
       "999  United States     Miami        NaT  "
      ]
     },
     "execution_count": 14,
     "metadata": {},
     "output_type": "execute_result"
    }
   ],
   "source": [
    "df.tail()"
   ]
  },
  {
   "cell_type": "markdown",
   "metadata": {},
   "source": [
    "# Change the first 5 rows (input any values)"
   ]
  },
  {
   "cell_type": "code",
   "execution_count": 15,
   "metadata": {},
   "outputs": [
    {
     "ename": "NameError",
     "evalue": "name 'np' is not defined",
     "output_type": "error",
     "traceback": [
      "\u001b[1;31m---------------------------------------------------------------------------\u001b[0m",
      "\u001b[1;31mNameError\u001b[0m                                 Traceback (most recent call last)",
      "Cell \u001b[1;32mIn[15], line 3\u001b[0m\n\u001b[0;32m      1\u001b[0m modified_rows \u001b[38;5;241m=\u001b[39m [\n\u001b[0;32m      2\u001b[0m     [\u001b[38;5;241m1\u001b[39m, \u001b[38;5;124m\"\u001b[39m\u001b[38;5;124mJohn Doe\u001b[39m\u001b[38;5;124m\"\u001b[39m, \u001b[38;5;124m\"\u001b[39m\u001b[38;5;124mSoftware Engineer\u001b[39m\u001b[38;5;124m\"\u001b[39m, \u001b[38;5;124m\"\u001b[39m\u001b[38;5;124mIT\u001b[39m\u001b[38;5;124m\"\u001b[39m, \u001b[38;5;124m\"\u001b[39m\u001b[38;5;124mCorporate\u001b[39m\u001b[38;5;124m\"\u001b[39m, \u001b[38;5;124m\"\u001b[39m\u001b[38;5;124mMale\u001b[39m\u001b[38;5;124m\"\u001b[39m, \u001b[38;5;124m\"\u001b[39m\u001b[38;5;124mHispanic\u001b[39m\u001b[38;5;124m\"\u001b[39m,\n\u001b[1;32m----> 3\u001b[0m         \u001b[38;5;241m30\u001b[39m, \u001b[38;5;124m\"\u001b[39m\u001b[38;5;124m1/1/2020\u001b[39m\u001b[38;5;124m\"\u001b[39m, \u001b[38;5;241m80000\u001b[39m, \u001b[38;5;241m0.5\u001b[39m, \u001b[38;5;124m\"\u001b[39m\u001b[38;5;124mUnited States\u001b[39m\u001b[38;5;124m\"\u001b[39m, \u001b[38;5;124m\"\u001b[39m\u001b[38;5;124mNew York\u001b[39m\u001b[38;5;124m\"\u001b[39m, \u001b[43mnp\u001b[49m\u001b[38;5;241m.\u001b[39mnan],\n\u001b[0;32m      4\u001b[0m     [\u001b[38;5;241m2\u001b[39m, \u001b[38;5;124m\"\u001b[39m\u001b[38;5;124mJane Smith\u001b[39m\u001b[38;5;124m\"\u001b[39m, \u001b[38;5;124m\"\u001b[39m\u001b[38;5;124mData Scientist\u001b[39m\u001b[38;5;124m\"\u001b[39m, \u001b[38;5;124m\"\u001b[39m\u001b[38;5;124mFinance\u001b[39m\u001b[38;5;124m\"\u001b[39m, \u001b[38;5;124m\"\u001b[39m\u001b[38;5;124mCorporate\u001b[39m\u001b[38;5;124m\"\u001b[39m, \u001b[38;5;124m\"\u001b[39m\u001b[38;5;124mFemale\u001b[39m\u001b[38;5;124m\"\u001b[39m, \u001b[38;5;124m\"\u001b[39m\u001b[38;5;124mCaucasian\u001b[39m\u001b[38;5;124m\"\u001b[39m,\n\u001b[0;32m      5\u001b[0m         \u001b[38;5;241m28\u001b[39m, \u001b[38;5;124m\"\u001b[39m\u001b[38;5;124m2/2/2020\u001b[39m\u001b[38;5;124m\"\u001b[39m, \u001b[38;5;241m95000\u001b[39m, \u001b[38;5;241m0.1\u001b[39m, \u001b[38;5;124m\"\u001b[39m\u001b[38;5;124mUnited States\u001b[39m\u001b[38;5;124m\"\u001b[39m, \u001b[38;5;124m\"\u001b[39m\u001b[38;5;124mSan Francisco\u001b[39m\u001b[38;5;124m\"\u001b[39m, np\u001b[38;5;241m.\u001b[39mnan],\n\u001b[0;32m      6\u001b[0m     [\u001b[38;5;241m3\u001b[39m, \u001b[38;5;124m\"\u001b[39m\u001b[38;5;124mAlice Johnson\u001b[39m\u001b[38;5;124m\"\u001b[39m, \u001b[38;5;124m\"\u001b[39m\u001b[38;5;124mProduct Manager\u001b[39m\u001b[38;5;124m\"\u001b[39m, \u001b[38;5;124m\"\u001b[39m\u001b[38;5;124mSales\u001b[39m\u001b[38;5;124m\"\u001b[39m, \u001b[38;5;124m\"\u001b[39m\u001b[38;5;124mCorporate\u001b[39m\u001b[38;5;124m\"\u001b[39m, \u001b[38;5;124m\"\u001b[39m\u001b[38;5;124mFemale\u001b[39m\u001b[38;5;124m\"\u001b[39m,\n\u001b[0;32m      7\u001b[0m         \u001b[38;5;124m\"\u001b[39m\u001b[38;5;124mBlack\u001b[39m\u001b[38;5;124m\"\u001b[39m, \u001b[38;5;241m35\u001b[39m, \u001b[38;5;124m\"\u001b[39m\u001b[38;5;124m3/3/2020\u001b[39m\u001b[38;5;124m\"\u001b[39m, \u001b[38;5;241m105000\u001b[39m, \u001b[38;5;241m0.12\u001b[39m, \u001b[38;5;124m\"\u001b[39m\u001b[38;5;124mUnited States\u001b[39m\u001b[38;5;124m\"\u001b[39m, \u001b[38;5;124m\"\u001b[39m\u001b[38;5;124mChicago\u001b[39m\u001b[38;5;124m\"\u001b[39m, np\u001b[38;5;241m.\u001b[39mnan],\n\u001b[0;32m      8\u001b[0m     [\u001b[38;5;241m4\u001b[39m, \u001b[38;5;124m\"\u001b[39m\u001b[38;5;124mBob Brown\u001b[39m\u001b[38;5;124m\"\u001b[39m, \u001b[38;5;124m\"\u001b[39m\u001b[38;5;124mHR Specialist\u001b[39m\u001b[38;5;124m\"\u001b[39m, \u001b[38;5;124m\"\u001b[39m\u001b[38;5;124mHR\u001b[39m\u001b[38;5;124m\"\u001b[39m, \u001b[38;5;124m\"\u001b[39m\u001b[38;5;124mCorporate\u001b[39m\u001b[38;5;124m\"\u001b[39m, \u001b[38;5;124m\"\u001b[39m\u001b[38;5;124mMale\u001b[39m\u001b[38;5;124m\"\u001b[39m, \u001b[38;5;124m\"\u001b[39m\u001b[38;5;124mAsian\u001b[39m\u001b[38;5;124m\"\u001b[39m,\n\u001b[0;32m      9\u001b[0m         \u001b[38;5;241m45\u001b[39m, \u001b[38;5;124m\"\u001b[39m\u001b[38;5;124m4/4/2020\u001b[39m\u001b[38;5;124m\"\u001b[39m, \u001b[38;5;241m70000\u001b[39m, \u001b[38;5;241m0.8\u001b[39m, \u001b[38;5;124m\"\u001b[39m\u001b[38;5;124mUnited States\u001b[39m\u001b[38;5;124m\"\u001b[39m, \u001b[38;5;124m\"\u001b[39m\u001b[38;5;124mSeattle\u001b[39m\u001b[38;5;124m\"\u001b[39m, np\u001b[38;5;241m.\u001b[39mnan],\n\u001b[0;32m     10\u001b[0m     [\u001b[38;5;241m5\u001b[39m, \u001b[38;5;124m\"\u001b[39m\u001b[38;5;124mCharlie Davis\u001b[39m\u001b[38;5;124m\"\u001b[39m, \u001b[38;5;124m\"\u001b[39m\u001b[38;5;124mMarketing Manager\u001b[39m\u001b[38;5;124m\"\u001b[39m, \u001b[38;5;124m\"\u001b[39m\u001b[38;5;124mMarketing\u001b[39m\u001b[38;5;124m\"\u001b[39m, \u001b[38;5;124m\"\u001b[39m\u001b[38;5;124mCorporate\u001b[39m\u001b[38;5;124m\"\u001b[39m, \u001b[38;5;124m\"\u001b[39m\u001b[38;5;124mMale\u001b[39m\u001b[38;5;124m\"\u001b[39m,\n\u001b[0;32m     11\u001b[0m         \u001b[38;5;124m\"\u001b[39m\u001b[38;5;124mCaucasian\u001b[39m\u001b[38;5;124m\"\u001b[39m, \u001b[38;5;241m38\u001b[39m, \u001b[38;5;124m\"\u001b[39m\u001b[38;5;124m5/5/2020\u001b[39m\u001b[38;5;124m\"\u001b[39m, \u001b[38;5;241m85000\u001b[39m, \u001b[38;5;241m0.15\u001b[39m, \u001b[38;5;124m\"\u001b[39m\u001b[38;5;124mUnited States\u001b[39m\u001b[38;5;124m\"\u001b[39m, \u001b[38;5;124m\"\u001b[39m\u001b[38;5;124mLos Angeles\u001b[39m\u001b[38;5;124m\"\u001b[39m, np\u001b[38;5;241m.\u001b[39mnan]\n\u001b[0;32m     12\u001b[0m ]\n\u001b[0;32m     15\u001b[0m df\u001b[38;5;241m.\u001b[39miloc[:\u001b[38;5;241m5\u001b[39m] \u001b[38;5;241m=\u001b[39m pd\u001b[38;5;241m.\u001b[39mDataFrame(modified_rows, columns\u001b[38;5;241m=\u001b[39mdf\u001b[38;5;241m.\u001b[39mcolumns)\n\u001b[0;32m     17\u001b[0m df\u001b[38;5;241m.\u001b[39mhead()\n",
      "\u001b[1;31mNameError\u001b[0m: name 'np' is not defined"
     ]
    }
   ],
   "source": [
    "modified_rows = [\n",
    "    [1, \"John Doe\", \"Software Engineer\", \"IT\", \"Corporate\", \"Male\", \"Hispanic\",\n",
    "        30, \"1/1/2020\", 80000, 0.5, \"United States\", \"New York\", np.nan],\n",
    "    [2, \"Jane Smith\", \"Data Scientist\", \"Finance\", \"Corporate\", \"Female\", \"Caucasian\",\n",
    "        28, \"2/2/2020\", 95000, 0.1, \"United States\", \"San Francisco\", np.nan],\n",
    "    [3, \"Alice Johnson\", \"Product Manager\", \"Sales\", \"Corporate\", \"Female\",\n",
    "        \"Black\", 35, \"3/3/2020\", 105000, 0.12, \"United States\", \"Chicago\", np.nan],\n",
    "    [4, \"Bob Brown\", \"HR Specialist\", \"HR\", \"Corporate\", \"Male\", \"Asian\",\n",
    "        45, \"4/4/2020\", 70000, 0.8, \"United States\", \"Seattle\", np.nan],\n",
    "    [5, \"Charlie Davis\", \"Marketing Manager\", \"Marketing\", \"Corporate\", \"Male\",\n",
    "        \"Caucasian\", 38, \"5/5/2020\", 85000, 0.15, \"United States\", \"Los Angeles\", np.nan]\n",
    "]\n",
    "\n",
    "\n",
    "df.iloc[:5] = pd.DataFrame(modified_rows, columns=df.columns)\n",
    "\n",
    "df.head()"
   ]
  },
  {
   "cell_type": "code",
   "execution_count": 16,
   "metadata": {},
   "outputs": [
    {
     "name": "stdout",
     "output_type": "stream",
     "text": [
      "Row with the Largest Salary:\n",
      "EEID                          E04354\n",
      "Full Name               Raelynn Rios\n",
      "Job Title             Vice President\n",
      "Department                     Sales\n",
      "Business Unit          Manufacturing\n",
      "Gender                        Female\n",
      "Ethnicity                     Latino\n",
      "Age                             43.0\n",
      "Hire Date        2016-08-21 00:00:00\n",
      "Annual Salary               258498.0\n",
      "Bonus %                         0.35\n",
      "Country                United States\n",
      "City                        Columbus\n",
      "Exit Date                        NaT\n",
      "Name: 989, dtype: object\n"
     ]
    }
   ],
   "source": [
    "max_salary_row = df.loc[df['Annual Salary'].idxmax()]\n",
    "print(\"Row with the Largest Salary:\")\n",
    "print(max_salary_row)"
   ]
  },
  {
   "cell_type": "code",
   "execution_count": 17,
   "metadata": {},
   "outputs": [
    {
     "data": {
      "text/html": [
       "<div>\n",
       "<style scoped>\n",
       "    .dataframe tbody tr th:only-of-type {\n",
       "        vertical-align: middle;\n",
       "    }\n",
       "\n",
       "    .dataframe tbody tr th {\n",
       "        vertical-align: top;\n",
       "    }\n",
       "\n",
       "    .dataframe thead th {\n",
       "        text-align: right;\n",
       "    }\n",
       "</style>\n",
       "<table border=\"1\" class=\"dataframe\">\n",
       "  <thead>\n",
       "    <tr style=\"text-align: right;\">\n",
       "      <th></th>\n",
       "      <th>EEID</th>\n",
       "      <th>Full Name</th>\n",
       "      <th>Job Title</th>\n",
       "      <th>Department</th>\n",
       "      <th>Business Unit</th>\n",
       "      <th>Gender</th>\n",
       "      <th>Ethnicity</th>\n",
       "      <th>Age</th>\n",
       "      <th>Hire Date</th>\n",
       "      <th>Annual Salary</th>\n",
       "      <th>Bonus %</th>\n",
       "      <th>Country</th>\n",
       "      <th>City</th>\n",
       "      <th>Exit Date</th>\n",
       "    </tr>\n",
       "  </thead>\n",
       "  <tbody>\n",
       "    <tr>\n",
       "      <th>0</th>\n",
       "      <td>E02387</td>\n",
       "      <td>Emily Davis</td>\n",
       "      <td>Sr. Manger</td>\n",
       "      <td>IT</td>\n",
       "      <td>Research &amp; Development</td>\n",
       "      <td>Female</td>\n",
       "      <td>Black</td>\n",
       "      <td>55.0</td>\n",
       "      <td>2016-04-08</td>\n",
       "      <td>141604.0</td>\n",
       "      <td>0.15</td>\n",
       "      <td>United States</td>\n",
       "      <td>Seattle</td>\n",
       "      <td>2021-10-16</td>\n",
       "    </tr>\n",
       "    <tr>\n",
       "      <th>1</th>\n",
       "      <td>E04105</td>\n",
       "      <td>Theodore Dinh</td>\n",
       "      <td>Technical Architect</td>\n",
       "      <td>IT</td>\n",
       "      <td>Manufacturing</td>\n",
       "      <td>Male</td>\n",
       "      <td>Asian</td>\n",
       "      <td>59.0</td>\n",
       "      <td>1997-11-29</td>\n",
       "      <td>99975.0</td>\n",
       "      <td>0.00</td>\n",
       "      <td>China</td>\n",
       "      <td>Chongqing</td>\n",
       "      <td>NaT</td>\n",
       "    </tr>\n",
       "    <tr>\n",
       "      <th>2</th>\n",
       "      <td>E02572</td>\n",
       "      <td>Luna Sanders</td>\n",
       "      <td>Director</td>\n",
       "      <td>Finance</td>\n",
       "      <td>Speciality Products</td>\n",
       "      <td>Female</td>\n",
       "      <td>Caucasian</td>\n",
       "      <td>50.0</td>\n",
       "      <td>2006-10-26</td>\n",
       "      <td>163099.0</td>\n",
       "      <td>0.20</td>\n",
       "      <td>United States</td>\n",
       "      <td>Chicago</td>\n",
       "      <td>NaT</td>\n",
       "    </tr>\n",
       "    <tr>\n",
       "      <th>3</th>\n",
       "      <td>E02832</td>\n",
       "      <td>Penelope Jordan</td>\n",
       "      <td>Computer Systems Manager</td>\n",
       "      <td>IT</td>\n",
       "      <td>Manufacturing</td>\n",
       "      <td>Female</td>\n",
       "      <td>Caucasian</td>\n",
       "      <td>26.0</td>\n",
       "      <td>2019-09-27</td>\n",
       "      <td>84913.0</td>\n",
       "      <td>0.07</td>\n",
       "      <td>United States</td>\n",
       "      <td>Chicago</td>\n",
       "      <td>NaT</td>\n",
       "    </tr>\n",
       "    <tr>\n",
       "      <th>4</th>\n",
       "      <td>E01639</td>\n",
       "      <td>Austin Vo</td>\n",
       "      <td>Sr. Analyst</td>\n",
       "      <td>Finance</td>\n",
       "      <td>Manufacturing</td>\n",
       "      <td>Male</td>\n",
       "      <td>Asian</td>\n",
       "      <td>55.0</td>\n",
       "      <td>1995-11-20</td>\n",
       "      <td>95409.0</td>\n",
       "      <td>0.00</td>\n",
       "      <td>United States</td>\n",
       "      <td>Phoenix</td>\n",
       "      <td>NaT</td>\n",
       "    </tr>\n",
       "    <tr>\n",
       "      <th>...</th>\n",
       "      <td>...</td>\n",
       "      <td>...</td>\n",
       "      <td>...</td>\n",
       "      <td>...</td>\n",
       "      <td>...</td>\n",
       "      <td>...</td>\n",
       "      <td>...</td>\n",
       "      <td>...</td>\n",
       "      <td>...</td>\n",
       "      <td>...</td>\n",
       "      <td>...</td>\n",
       "      <td>...</td>\n",
       "      <td>...</td>\n",
       "      <td>...</td>\n",
       "    </tr>\n",
       "    <tr>\n",
       "      <th>995</th>\n",
       "      <td>E03094</td>\n",
       "      <td>Wesley Young</td>\n",
       "      <td>Sr. Analyst</td>\n",
       "      <td>Marketing</td>\n",
       "      <td>Speciality Products</td>\n",
       "      <td>Male</td>\n",
       "      <td>Caucasian</td>\n",
       "      <td>33.0</td>\n",
       "      <td>2016-09-18</td>\n",
       "      <td>98427.0</td>\n",
       "      <td>0.00</td>\n",
       "      <td>United States</td>\n",
       "      <td>Columbus</td>\n",
       "      <td>NaT</td>\n",
       "    </tr>\n",
       "    <tr>\n",
       "      <th>996</th>\n",
       "      <td>E01909</td>\n",
       "      <td>Lillian Khan</td>\n",
       "      <td>Analyst</td>\n",
       "      <td>Finance</td>\n",
       "      <td>Speciality Products</td>\n",
       "      <td>Female</td>\n",
       "      <td>Asian</td>\n",
       "      <td>44.0</td>\n",
       "      <td>2010-05-31</td>\n",
       "      <td>47387.0</td>\n",
       "      <td>0.00</td>\n",
       "      <td>China</td>\n",
       "      <td>Chengdu</td>\n",
       "      <td>2018-01-08</td>\n",
       "    </tr>\n",
       "    <tr>\n",
       "      <th>997</th>\n",
       "      <td>E04398</td>\n",
       "      <td>Oliver Yang</td>\n",
       "      <td>Director</td>\n",
       "      <td>Marketing</td>\n",
       "      <td>Speciality Products</td>\n",
       "      <td>Male</td>\n",
       "      <td>Asian</td>\n",
       "      <td>31.0</td>\n",
       "      <td>2019-06-10</td>\n",
       "      <td>176710.0</td>\n",
       "      <td>0.15</td>\n",
       "      <td>United States</td>\n",
       "      <td>Miami</td>\n",
       "      <td>NaT</td>\n",
       "    </tr>\n",
       "    <tr>\n",
       "      <th>998</th>\n",
       "      <td>E02521</td>\n",
       "      <td>Lily Nguyen</td>\n",
       "      <td>Sr. Analyst</td>\n",
       "      <td>Finance</td>\n",
       "      <td>Speciality Products</td>\n",
       "      <td>Female</td>\n",
       "      <td>Asian</td>\n",
       "      <td>33.0</td>\n",
       "      <td>2012-01-28</td>\n",
       "      <td>95960.0</td>\n",
       "      <td>0.00</td>\n",
       "      <td>China</td>\n",
       "      <td>Chengdu</td>\n",
       "      <td>NaT</td>\n",
       "    </tr>\n",
       "    <tr>\n",
       "      <th>999</th>\n",
       "      <td>E03545</td>\n",
       "      <td>Sofia Cheng</td>\n",
       "      <td>Vice President</td>\n",
       "      <td>Accounting</td>\n",
       "      <td>Corporate</td>\n",
       "      <td>Female</td>\n",
       "      <td>Asian</td>\n",
       "      <td>63.0</td>\n",
       "      <td>2020-07-26</td>\n",
       "      <td>216195.0</td>\n",
       "      <td>0.31</td>\n",
       "      <td>United States</td>\n",
       "      <td>Miami</td>\n",
       "      <td>NaT</td>\n",
       "    </tr>\n",
       "  </tbody>\n",
       "</table>\n",
       "<p>1000 rows × 14 columns</p>\n",
       "</div>"
      ],
      "text/plain": [
       "       EEID        Full Name                 Job Title  Department  \\\n",
       "0    E02387      Emily Davis                Sr. Manger          IT   \n",
       "1    E04105    Theodore Dinh       Technical Architect          IT   \n",
       "2    E02572     Luna Sanders                  Director     Finance   \n",
       "3    E02832  Penelope Jordan  Computer Systems Manager          IT   \n",
       "4    E01639        Austin Vo               Sr. Analyst     Finance   \n",
       "..      ...              ...                       ...         ...   \n",
       "995  E03094     Wesley Young               Sr. Analyst   Marketing   \n",
       "996  E01909     Lillian Khan                   Analyst     Finance   \n",
       "997  E04398      Oliver Yang                  Director   Marketing   \n",
       "998  E02521      Lily Nguyen               Sr. Analyst     Finance   \n",
       "999  E03545      Sofia Cheng            Vice President  Accounting   \n",
       "\n",
       "              Business Unit  Gender  Ethnicity   Age  Hire Date  \\\n",
       "0    Research & Development  Female      Black  55.0 2016-04-08   \n",
       "1             Manufacturing    Male      Asian  59.0 1997-11-29   \n",
       "2       Speciality Products  Female  Caucasian  50.0 2006-10-26   \n",
       "3             Manufacturing  Female  Caucasian  26.0 2019-09-27   \n",
       "4             Manufacturing    Male      Asian  55.0 1995-11-20   \n",
       "..                      ...     ...        ...   ...        ...   \n",
       "995     Speciality Products    Male  Caucasian  33.0 2016-09-18   \n",
       "996     Speciality Products  Female      Asian  44.0 2010-05-31   \n",
       "997     Speciality Products    Male      Asian  31.0 2019-06-10   \n",
       "998     Speciality Products  Female      Asian  33.0 2012-01-28   \n",
       "999               Corporate  Female      Asian  63.0 2020-07-26   \n",
       "\n",
       "     Annual Salary  Bonus %        Country       City  Exit Date  \n",
       "0         141604.0     0.15  United States    Seattle 2021-10-16  \n",
       "1          99975.0     0.00          China  Chongqing        NaT  \n",
       "2         163099.0     0.20  United States    Chicago        NaT  \n",
       "3          84913.0     0.07  United States    Chicago        NaT  \n",
       "4          95409.0     0.00  United States    Phoenix        NaT  \n",
       "..             ...      ...            ...        ...        ...  \n",
       "995        98427.0     0.00  United States   Columbus        NaT  \n",
       "996        47387.0     0.00          China    Chengdu 2018-01-08  \n",
       "997       176710.0     0.15  United States      Miami        NaT  \n",
       "998        95960.0     0.00          China    Chengdu        NaT  \n",
       "999       216195.0     0.31  United States      Miami        NaT  \n",
       "\n",
       "[1000 rows x 14 columns]"
      ]
     },
     "execution_count": 17,
     "metadata": {},
     "output_type": "execute_result"
    }
   ],
   "source": [
    "df"
   ]
  },
  {
   "cell_type": "markdown",
   "metadata": {},
   "source": [
    "Export to CSV then to Excel to ensure that the date is in the correct format (or the date will be in excel format)"
   ]
  },
  {
   "cell_type": "code",
   "execution_count": 18,
   "metadata": {},
   "outputs": [],
   "source": [
    "output_file_path = 'Modified Sample Data.csv'\n",
    "df.to_csv(output_file_path, index=False)"
   ]
  },
  {
   "cell_type": "code",
   "execution_count": 19,
   "metadata": {},
   "outputs": [],
   "source": [
    "modified_df = pd.read_csv(output_file_path)"
   ]
  },
  {
   "cell_type": "code",
   "execution_count": 20,
   "metadata": {},
   "outputs": [],
   "source": [
    "modified_df.to_excel('Modified Sample Data.xlsx', index=False)"
   ]
  },
  {
   "cell_type": "markdown",
   "metadata": {},
   "source": [
    "# Distribution of Anuual salaries"
   ]
  },
  {
   "cell_type": "code",
   "execution_count": 21,
   "metadata": {},
   "outputs": [
    {
     "data": {
      "image/png": "[encoded data removed]",
      "text/plain": [
       "<Figure size 1000x600 with 1 Axes>"
      ]
     },
     "metadata": {},
     "output_type": "display_data"
    }
   ],
   "source": [
    "plt.figure(figsize=(10, 6))\n",
    "sns.histplot(df['Annual Salary'], bins=30, kde=True)\n",
    "plt.title('Distribution of Annual Salaries')\n",
    "plt.xlabel('Annual Salary')\n",
    "plt.show()"
   ]
  },
  {
   "cell_type": "markdown",
   "metadata": {},
   "source": [
    "# Distribution of Gender by departments"
   ]
  },
  {
   "cell_type": "code",
   "execution_count": 24,
   "metadata": {},
   "outputs": [
    {
     "data": {
      "image/png": "[encoded data removed]",
      "text/plain": [
       "<Figure size 1200x600 with 1 Axes>"
      ]
     },
     "metadata": {},
     "output_type": "display_data"
    }
   ],
   "source": [
    "plt.figure(figsize=(12, 6))\n",
    "sns.countplot(data=df , x='Department' , hue='Gender')\n",
    "plt.title('Distribution of Gender by Departments')\n",
    "plt.show()"
   ]
  },
  {
   "cell_type": "markdown",
   "metadata": {},
   "source": [
    "# Avarage salary by department"
   ]
  },
  {
   "cell_type": "code",
   "execution_count": 26,
   "metadata": {},
   "outputs": [
    {
     "data": {
      "image/png": "[encoded data removed]",
      "text/plain": [
       "<Figure size 1200x600 with 1 Axes>"
      ]
     },
     "metadata": {},
     "output_type": "display_data"
    }
   ],
   "source": [
    "plt.figure(figsize=(12, 6))\n",
    "sns.barplot(data=df , x='Department' , y='Annual Salary' , estimator=np.mean)\n",
    "plt.xlabel = 'Departments'\n",
    "plt.ylabel = 'Average Annual Salary'\n",
    "plt.title('Average Annual Salary by Department')\n",
    "plt.show()"
   ]
  },
  {
   "cell_type": "code",
   "execution_count": 28,
   "metadata": {},
   "outputs": [
    {
     "data": {
      "image/png": "[encoded data removed]",
      "text/plain": [
       "<Figure size 1200x600 with 1 Axes>"
      ]
     },
     "metadata": {},
     "output_type": "display_data"
    }
   ],
   "source": [
    "plt.figure(figsize=(12, 6))\n",
    "sns.barplot(data=df, x='Department', y='Age', estimator=np.mean)\n",
    "plt.xlabel = 'Departments'\n",
    "plt.ylabel = 'Age'\n",
    "plt.title('Average Age by Department')\n",
    "plt.show()"
   ]
  },
  {
   "cell_type": "code",
   "execution_count": 33,
   "metadata": {},
   "outputs": [
    {
     "data": {
      "image/png": "[encoded data removed]",
      "text/plain": [
       "<Figure size 1600x600 with 1 Axes>"
      ]
     },
     "metadata": {},
     "output_type": "display_data"
    }
   ],
   "source": [
    "df['hier_year'] = df['Hire Date'].dt.year\n",
    "plt.figure(figsize=(16, 6))\n",
    "sns.countplot(data=df, x='hier_year')\n",
    "plt.title('Number of Hires by Year')\n",
    "plt.show()"
   ]
  },
  {
   "cell_type": "code",
   "execution_count": null,
   "metadata": {},
   "outputs": [],
   "source": []
  }
 ],
 "metadata": {
  "kernelspec": {
   "display_name": "base",
   "language": "python",
   "name": "python3"
  },
  "language_info": {
   "codemirror_mode": {
    "name": "ipython",
    "version": 3
   },
   "file_extension": ".py",
   "mimetype": "text/x-python",
   "name": "python",
   "nbconvert_exporter": "python",
   "pygments_lexer": "ipython3",
   "version": "3.11.5"
  }
 },
 "nbformat": 4,
 "nbformat_minor": 2
}
